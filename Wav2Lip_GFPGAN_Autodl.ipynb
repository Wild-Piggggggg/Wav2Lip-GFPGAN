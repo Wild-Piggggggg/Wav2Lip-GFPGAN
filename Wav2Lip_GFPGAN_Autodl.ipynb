{
 "cells": [
  {
   "cell_type": "code",
   "execution_count": null,
   "metadata": {},
   "outputs": [],
   "source": [
    "###  此脚本适用于Autodl云平台部署WavLip-GFPGAN算法\n",
    "####  本脚本置于根目录下即可\n",
    "####  运行本脚本前，需要在终端下载ffmpeg，命令如下：\n",
    "####  `sudo apt update`\n",
    "####  `sudo apt install -y ffmpeg`\n",
    "####  git拉取,pip下载依赖,wget下载模型等代码只需运行第一次后就可以完全注释\n",
    "####  如果模型下载有问题，请直接进入 https://github.com/Wild-Piggggggg/Dreamy-umbrella/releases/tag/AI 手动下载"
   ]
  },
  {
   "cell_type": "code",
   "execution_count": null,
   "metadata": {},
   "outputs": [],
   "source": [
    "# 资源加速\n",
    "!source /etc/network_turbo\n",
    "storePath = \"/root/autodl-tmp/\"  # 将仓库拉取拉取到autodl的数据盘\n",
    "# 进入存放目录的文件夹\n",
    "%cd {storePath}"
   ]
  },
  {
   "cell_type": "markdown",
   "metadata": {},
   "source": [
    "下面第一个单元格执行完一次就注释"
   ]
  },
  {
   "cell_type": "code",
   "execution_count": null,
   "metadata": {},
   "outputs": [],
   "source": [
    "# 前缀加速\n",
    "!git clone https://github.moeyy.xyz/https://github.com/Wild-Piggggggg/Wav2Lip-GFPGAN.git"
   ]
  },
  {
   "cell_type": "code",
   "execution_count": null,
   "metadata": {},
   "outputs": [],
   "source": [
    "basePath = \"/root/autodl-tmp/Wav2Lip-GFPGAN\" \n",
    "# 进入项目文件夹 \n",
    "%cd {basePath}"
   ]
  },
  {
   "cell_type": "code",
   "execution_count": null,
   "metadata": {},
   "outputs": [],
   "source": [
    "# 下载依赖，如果报红就改requests，警告无所谓\n",
    "!pip install -r requirements.txt  "
   ]
  },
  {
   "cell_type": "code",
   "execution_count": null,
   "metadata": {},
   "outputs": [],
   "source": [
    "wav2lipFolderName = 'Wav2Lip-master'\n",
    "gfpganFolderName = 'GFPGAN-master'\n",
    "wav2lipPath = basePath + '/' + wav2lipFolderName\n",
    "gfpganPath = basePath + '/' + gfpganFolderName"
   ]
  },
  {
   "cell_type": "code",
   "execution_count": null,
   "metadata": {},
   "outputs": [],
   "source": [
    "# 下载s3fd.pth模型到指定目录\n",
    "!wget https://github.moeyy.xyz/https://github.com/Wild-Piggggggg/Dreamy-umbrella/releases/download/AI/s3fd.pth -O {wav2lipPath}'/face_detection/detection/sfd/s3fd.pth'\n",
    "# 下载wav2lip.pth模型到指定目录\n",
    "!wget https://github.moeyy.xyz/https://github.com/Wild-Piggggggg/Dreamy-umbrella/releases/download/AI/wav2lip.pth -O {wav2lipPath}'/checkpoints/wav2lip.pth' "
   ]
  },
  {
   "cell_type": "code",
   "execution_count": null,
   "metadata": {},
   "outputs": [],
   "source": [
    "import os\n",
    "import cv2\n",
    "\n",
    "outputPath = basePath+'/outputs'\n",
    "inputAudioPath = basePath + '/inputs/wenan.wav'  # 改成自己的音频文件\n",
    "inputVideoPath = basePath + '/inputs/tecent_female.mp4'  # 改成自己的视频文件\n",
    "lipSyncedOutputPath = basePath + '/outputs/result.mp4'  # 改成输出目录，如果不想覆盖之前的视频就命个别的名\n",
    "\n",
    "def get_video_fps(video_path):\n",
    "    # 打开视频文件\n",
    "    cap = cv2.VideoCapture(video_path)\n",
    "\n",
    "    # 获取帧率\n",
    "    fps = cap.get(cv2.CAP_PROP_FPS)\n",
    "\n",
    "    # 释放视频文件\n",
    "    cap.release()\n",
    "\n",
    "    return fps\n",
    "\n",
    "# 获取视频帧率\n",
    "fps = get_video_fps(inputVideoPath)\n",
    "\n",
    "FPS = fps  # 设置帧率，很重要，如果不匹配会导致嘴型不匹配\n",
    "\n",
    "if not os.path.exists(outputPath):\n",
    "  os.makedirs(outputPath)\n",
    "else:\n",
    "    # 把存了旧temp照片的输出目录删了再建一个新的空目录\n",
    "    !rm -r {outputPath}\n",
    "    os.makedirs(outputPath)\n"
   ]
  },
  {
   "cell_type": "code",
   "execution_count": null,
   "metadata": {},
   "outputs": [],
   "source": [
    "!cd $wav2lipFolderName && python inference.py \\\n",
    "--checkpoint_path checkpoints/wav2lip.pth \\\n",
    "--face {inputVideoPath} \\\n",
    "--audio {inputAudioPath} \\\n",
    "--outfile {lipSyncedOutputPath}"
   ]
  },
  {
   "cell_type": "code",
   "execution_count": null,
   "metadata": {},
   "outputs": [],
   "source": [
    "# setup.py定义项目的元数据,包括版本信息、作者、依赖项等,并通过调用 setup() 函数将项目打包成一个可分发的 Python 包。在命令行中运行 python setup.py install 或 pip install . 将会安装该包及其相关依赖\n",
    "!cd $gfpganFolderName && python setup.py develop  "
   ]
  },
  {
   "cell_type": "code",
   "execution_count": null,
   "metadata": {},
   "outputs": [],
   "source": [
    "\n",
    "### 这里注意自己的python版本号\n",
    "# 下载GFPGANv1.3.pth模型到预训练模型文件夹目录\n",
    "!wget https://github.moeyy.xyz/https://github.com/Wild-Piggggggg/Dreamy-umbrella/releases/download/AI/GFPGANv1.3.pth -P {gfpganFolderName}'/experiments/pretrained_models'\n",
    "# 下载GFPGANv1.4.pth模型到预训练模型文件夹目录\n",
    "!wget https://github.moeyy.xyz/https://github.com/Wild-Piggggggg/Dreamy-umbrella/releases/download/AI/GFPGANv1.4.pth -P {gfpganFolderName}'/experiments/pretrained_models'\n",
    "# 下载detection_Resnet50_Final.pth模型到权重模型文件夹目录\n",
    "!wget https://github.moeyy.xyz/https://github.com/Wild-Piggggggg/Dreamy-umbrella/releases/download/AI/detection_Resnet50_Final.pth -P '/root/miniconda3/lib/python3.10/site-packages/facexlib/weights/'\n",
    "# 下载parsing_parsenet.pth模型到权重模型文件夹目录\n",
    "!wget https://github.moeyy.xyz/https://github.com/Wild-Piggggggg/Dreamy-umbrella/releases/download/AI/parsing_parsenet.pth -P '/root/miniconda3/lib/python3.10/site-packages/facexlib/weights/'"
   ]
  },
  {
   "cell_type": "code",
   "execution_count": null,
   "metadata": {},
   "outputs": [],
   "source": [
    "import cv2\n",
    "from tqdm import tqdm\n",
    "from os import path\n",
    "\n",
    "import os\n",
    "\n",
    "inputVideoPath = outputPath+'/result.mp4'  # 这里也要改\n",
    "unProcessedFramesFolderPath = outputPath+'/frames'\n",
    "\n",
    "if not os.path.exists(unProcessedFramesFolderPath):\n",
    "  os.makedirs(unProcessedFramesFolderPath)\n",
    "\n",
    "vidcap = cv2.VideoCapture(inputVideoPath)\n",
    "numberOfFrames = int(vidcap.get(cv2.CAP_PROP_FRAME_COUNT))\n",
    "fps = vidcap.get(cv2.CAP_PROP_FPS)\n",
    "print(\"FPS: \", fps, \"Frames: \", numberOfFrames)\n",
    "\n",
    "for frameNumber in tqdm(range(numberOfFrames)):\n",
    "    _,image = vidcap.read()\n",
    "    cv2.imwrite(path.join(unProcessedFramesFolderPath, str(frameNumber).zfill(4)+'.jpg'), image)\n"
   ]
  },
  {
   "cell_type": "code",
   "execution_count": null,
   "metadata": {},
   "outputs": [],
   "source": [
    "!cd $gfpganFolderName && \\\n",
    "  python inference_gfpgan.py -i $unProcessedFramesFolderPath -o $outputPath -v 1.4 -s 2 --only_center_face --bg_upsampler None"
   ]
  },
  {
   "cell_type": "code",
   "execution_count": null,
   "metadata": {},
   "outputs": [],
   "source": [
    "import os\n",
    "restoredFramesPath = outputPath + '/restored_imgs/'\n",
    "processedVideoOutputPath = outputPath\n",
    "\n",
    "dir_list = os.listdir(restoredFramesPath)\n",
    "dir_list.sort()\n",
    "\n",
    "import cv2\n",
    "\n",
    "# FPS = 25  # 改成自己的帧率!!\n",
    "\n",
    "batch = 0\n",
    "batchSize = int(FPS*10)\n",
    "from tqdm import tqdm\n",
    "for i in tqdm(range(0, len(dir_list), batchSize)):\n",
    "  img_array = []\n",
    "  start, end = i, i+batchSize\n",
    "  print(\"processing \", start, end)\n",
    "  for filename in  tqdm(dir_list[start:end]):\n",
    "      filename = restoredFramesPath+filename;\n",
    "      img = cv2.imread(filename)\n",
    "      if img is None:\n",
    "        continue\n",
    "      height, width, layers = img.shape\n",
    "      size = (width,height)\n",
    "      img_array.append(img)\n",
    "\n",
    "\n",
    "  out = cv2.VideoWriter(processedVideoOutputPath+'/batch_'+str(batch).zfill(4)+'.avi',cv2.VideoWriter_fourcc(*'DIVX'), FPS, size)\n",
    "  batch = batch + 1\n",
    " \n",
    "  for i in range(len(img_array)):\n",
    "    out.write(img_array[i])\n",
    "  out.release()\n"
   ]
  },
  {
   "cell_type": "code",
   "execution_count": null,
   "metadata": {},
   "outputs": [],
   "source": [
    "concatTextFilePath = outputPath + \"/concat.txt\"\n",
    "concatTextFile=open(concatTextFilePath,\"w\")\n",
    "for ips in range(batch):\n",
    "  concatTextFile.write(\"file batch_\" + str(ips).zfill(4) + \".avi\\n\")\n",
    "concatTextFile.close()\n",
    "\n",
    "concatedVideoOutputPath = outputPath + \"/concated_output.avi\"\n",
    "!ffmpeg -y -f concat -i {concatTextFilePath} -c copy {concatedVideoOutputPath} \n",
    "\n",
    "finalProcessedOuputVideo = processedVideoOutputPath+'/final_with_audio.avi'\n",
    "!ffmpeg -y -i {concatedVideoOutputPath} -i {inputAudioPath} -map 0 -map 1:a -c:v copy -shortest {finalProcessedOuputVideo}"
   ]
  }
 ],
 "metadata": {
  "language_info": {
   "name": "python"
  }
 },
 "nbformat": 4,
 "nbformat_minor": 2
}
